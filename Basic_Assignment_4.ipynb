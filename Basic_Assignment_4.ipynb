{
  "nbformat": 4,
  "nbformat_minor": 0,
  "metadata": {
    "colab": {
      "provenance": []
    },
    "kernelspec": {
      "name": "python3",
      "display_name": "Python 3"
    },
    "language_info": {
      "name": "python"
    }
  },
  "cells": [
    {
      "cell_type": "markdown",
      "source": [
        "1. What exactly is []?\n",
        "- empty parentheses\n"
      ],
      "metadata": {
        "id": "dWRXCW9_C9_0"
      }
    },
    {
      "cell_type": "markdown",
      "source": [
        "2. In a list of values stored in a variable called spam, how would you assign the value &#39;hello&#39; as the\n",
        "third value? (Assume [2, 4, 6, 8, 10] are in spam.)"
      ],
      "metadata": {
        "id": "nyEcJnNy2rWb"
      }
    },
    {
      "cell_type": "code",
      "source": [
        "\n",
        "spam=[2,4,6,8,10]\n",
        "spam[2]='hello'\n",
        "print(spam)\n"
      ],
      "metadata": {
        "id": "GLx3Az1fDRhw",
        "colab": {
          "base_uri": "https://localhost:8080/"
        },
        "outputId": "26d9d0f1-0039-455c-eb24-045f3e522686"
      },
      "execution_count": 3,
      "outputs": [
        {
          "output_type": "stream",
          "name": "stdout",
          "text": [
            "[2, 4, 'hello', 8, 10]\n"
          ]
        }
      ]
    },
    {
      "cell_type": "markdown",
      "source": [
        "Let&#39;s pretend the spam includes the list [&#39;a&#39;, &#39;b&#39;, &#39;c&#39;, &#39;d&#39;] for the next three queries.\n",
        "3. What is the value of spam[int(int(&#39;3&#39; * 2) / 11)]?"
      ],
      "metadata": {
        "id": "lSGj1_XK21bv"
      }
    },
    {
      "cell_type": "code",
      "source": [
        "spam=['a','b', 'c','d']\n",
        "spam[int(int('3' * 2) / 11)]"
      ],
      "metadata": {
        "colab": {
          "base_uri": "https://localhost:8080/",
          "height": 36
        },
        "id": "IB_acYHA27Bb",
        "outputId": "f1a6ec41-bec0-4e07-ce15-998a9db46a4f"
      },
      "execution_count": 6,
      "outputs": [
        {
          "output_type": "execute_result",
          "data": {
            "text/plain": [
              "'d'"
            ],
            "application/vnd.google.colaboratory.intrinsic+json": {
              "type": "string"
            }
          },
          "metadata": {},
          "execution_count": 6
        }
      ]
    },
    {
      "cell_type": "markdown",
      "source": [
        "4. What is the value of spam[-1]?"
      ],
      "metadata": {
        "id": "NDrFC-EA3_Mi"
      }
    },
    {
      "cell_type": "code",
      "source": [
        "spam[-1]"
      ],
      "metadata": {
        "colab": {
          "base_uri": "https://localhost:8080/",
          "height": 36
        },
        "id": "VgI3Px6S4Gjg",
        "outputId": "5bfef6ad-a93d-4afb-de8e-e76c21258536"
      },
      "execution_count": 7,
      "outputs": [
        {
          "output_type": "execute_result",
          "data": {
            "text/plain": [
              "'d'"
            ],
            "application/vnd.google.colaboratory.intrinsic+json": {
              "type": "string"
            }
          },
          "metadata": {},
          "execution_count": 7
        }
      ]
    },
    {
      "cell_type": "markdown",
      "source": [
        "5. What is the value of spam[:2]?"
      ],
      "metadata": {
        "id": "sbXHZHT94KGx"
      }
    },
    {
      "cell_type": "code",
      "source": [
        "spam[:2]\n"
      ],
      "metadata": {
        "colab": {
          "base_uri": "https://localhost:8080/"
        },
        "id": "awYCJ2J44N-c",
        "outputId": "982396e5-b549-498a-99a4-efb8f41ec71e"
      },
      "execution_count": 8,
      "outputs": [
        {
          "output_type": "execute_result",
          "data": {
            "text/plain": [
              "['a', 'b']"
            ]
          },
          "metadata": {},
          "execution_count": 8
        }
      ]
    },
    {
      "cell_type": "markdown",
      "source": [
        "Let&#39;s pretend bacon has the list [3.14, &#39;cat,&#39; 11, &#39;cat,&#39; True] for the next three questions.\n",
        "6. What is the value of bacon.index(&#39;cat&#39;)?"
      ],
      "metadata": {
        "id": "9pt810B94Ve0"
      }
    },
    {
      "cell_type": "code",
      "source": [
        "bacon=[3.14, 'cat', 11, 'cat', True]\n",
        "bacon.index('cat')"
      ],
      "metadata": {
        "colab": {
          "base_uri": "https://localhost:8080/"
        },
        "id": "abGIsmtpLcEs",
        "outputId": "080bd16d-0bb3-46ba-ba5c-1d19a69e5178"
      },
      "execution_count": 2,
      "outputs": [
        {
          "output_type": "execute_result",
          "data": {
            "text/plain": [
              "1"
            ]
          },
          "metadata": {},
          "execution_count": 2
        }
      ]
    },
    {
      "cell_type": "markdown",
      "source": [
        "7. How does bacon.append(99) change the look of the list value in bacon?"
      ],
      "metadata": {
        "id": "PpvT6h2mLyff"
      }
    },
    {
      "cell_type": "code",
      "source": [
        "bacon=[3.14, 'cat', 11, 'cat', True]\n",
        "bacon.append(99)\n",
        "bacon\n"
      ],
      "metadata": {
        "colab": {
          "base_uri": "https://localhost:8080/"
        },
        "id": "hcHd0aDeL15n",
        "outputId": "3d91d2c8-133f-4bd2-c5bf-512a01588e16"
      },
      "execution_count": 7,
      "outputs": [
        {
          "output_type": "execute_result",
          "data": {
            "text/plain": [
              "[3.14, 'cat', 11, 'cat', True, 99]"
            ]
          },
          "metadata": {},
          "execution_count": 7
        }
      ]
    },
    {
      "cell_type": "markdown",
      "source": [
        "8. How does bacon.remove(&#39;cat&#39;) change the look of the list in bacon?"
      ],
      "metadata": {
        "id": "6_rOykDNMkpT"
      }
    },
    {
      "cell_type": "code",
      "source": [
        "bacon.remove('cat')\n",
        "bacon"
      ],
      "metadata": {
        "colab": {
          "base_uri": "https://localhost:8080/"
        },
        "id": "z0uuIWXvMqqe",
        "outputId": "1d0eb823-eeb3-4d7d-d1b6-55ee367271d7"
      },
      "execution_count": 8,
      "outputs": [
        {
          "output_type": "execute_result",
          "data": {
            "text/plain": [
              "[3.14, 11, 'cat', True, 99]"
            ]
          },
          "metadata": {},
          "execution_count": 8
        }
      ]
    },
    {
      "cell_type": "markdown",
      "source": [
        "9. What are the list concatenation and list replication operators?\n",
        "-( * ) is list replication operator ( + ) is list concatination operator\n",
        "10. What is difference between the list methods append() and insert()?\n",
        "-append() Appends object to the end of the list\n",
        "insert() Insert object before index"
      ],
      "metadata": {
        "id": "5QLinxiaM3NK"
      }
    },
    {
      "cell_type": "code",
      "source": [
        "spam = [2, 4, 6, 8, 10]\n",
        "spam.insert(2,'hi')\n",
        "spam\n",
        "     "
      ],
      "metadata": {
        "colab": {
          "base_uri": "https://localhost:8080/"
        },
        "id": "ffGlGjS9NcU2",
        "outputId": "e3b51ccf-17ea-4575-8ebf-50317812aeca"
      },
      "execution_count": 13,
      "outputs": [
        {
          "output_type": "execute_result",
          "data": {
            "text/plain": [
              "[2, 4, 'hi', 6, 8, 10]"
            ]
          },
          "metadata": {},
          "execution_count": 13
        }
      ]
    },
    {
      "cell_type": "markdown",
      "source": [
        "11. What are the two methods for removing items from a list?"
      ],
      "metadata": {
        "id": "AcQ1gdgOODwa"
      }
    },
    {
      "cell_type": "code",
      "source": [
        "bacon = [3.14, 'cat', 11, 'cat', True]\n",
        "bacon.remove('cat')\n",
        "bacon\n",
        "\n",
        "\n",
        "     "
      ],
      "metadata": {
        "colab": {
          "base_uri": "https://localhost:8080/"
        },
        "id": "F_3umPb3OL7G",
        "outputId": "52e08a74-26d5-4200-ccb6-d598315b49e3"
      },
      "execution_count": 15,
      "outputs": [
        {
          "output_type": "execute_result",
          "data": {
            "text/plain": [
              "[3.14, 11, 'cat', True]"
            ]
          },
          "metadata": {},
          "execution_count": 15
        }
      ]
    },
    {
      "cell_type": "code",
      "source": [
        "#pop- removes the last item by defult\n",
        "bacon = [3.14, 'cat', 11, 'cat', True]\n",
        "bacon.pop()\n",
        "bacon\n",
        "    "
      ],
      "metadata": {
        "colab": {
          "base_uri": "https://localhost:8080/"
        },
        "id": "XhLljO7vOmgw",
        "outputId": "8aa62b7c-321d-44c4-cd3f-d4878f657d80"
      },
      "execution_count": 16,
      "outputs": [
        {
          "output_type": "execute_result",
          "data": {
            "text/plain": [
              "[3.14, 'cat', 11, 'cat']"
            ]
          },
          "metadata": {},
          "execution_count": 16
        }
      ]
    },
    {
      "cell_type": "markdown",
      "source": [
        "12. Describe how list values and string values are identical.\n",
        "-Both lists and strings can be passed to len()\n",
        "-Have indexes and slices\n",
        "-Can be used in for loops\n",
        "-Can be concatenated or replicated\n",
        "-Can be used with the in and not in operators"
      ],
      "metadata": {
        "id": "tfNwB-ldOtM-"
      }
    },
    {
      "cell_type": "markdown",
      "source": [
        "13. What&#39;s the difference between tuples and lists?\n",
        "-Lists : are mutable - they can have values added, removed, or changed. lists use the square brackets, [ and ]\n",
        "\n",
        "-Tuples : are immutable; they cannot be changed at all. Tuples are written using parentheses, ( and )"
      ],
      "metadata": {
        "id": "6o5l3mKpO3Cr"
      }
    },
    {
      "cell_type": "markdown",
      "source": [
        "14. How do you type a tuple value that only contains the integer 42?"
      ],
      "metadata": {
        "id": "uIpLKU-MPTdv"
      }
    },
    {
      "cell_type": "code",
      "source": [
        "tuple=(42)\n",
        "tuple"
      ],
      "metadata": {
        "colab": {
          "base_uri": "https://localhost:8080/"
        },
        "id": "z4L6XNWbPWs8",
        "outputId": "d3211771-c0e3-40f8-a247-c01cb5826907"
      },
      "execution_count": 17,
      "outputs": [
        {
          "output_type": "execute_result",
          "data": {
            "text/plain": [
              "42"
            ]
          },
          "metadata": {},
          "execution_count": 17
        }
      ]
    },
    {
      "cell_type": "markdown",
      "source": [
        "15. How do you get a list value&#39;s tuple form? How do you get a tuple value&#39;s list form?\n",
        "-list_1=[2,3] \n",
        "\n",
        "l = tuple (list_1)\n",
        "\n",
        "l \n",
        "\n",
        "-t1=(2,3)\n",
        "\n",
        "l1= list [t1]\n",
        " \n",
        "l1"
      ],
      "metadata": {
        "id": "iJsX8dh6PfCL"
      }
    },
    {
      "cell_type": "markdown",
      "source": [
        "16. Variables that &quot;contain&quot; list values are not necessarily lists themselves. Instead, what do they\n",
        "contain?\n",
        "-They contain references to list values"
      ],
      "metadata": {
        "id": "yb1Tg0hWSFNc"
      }
    },
    {
      "cell_type": "markdown",
      "source": [
        "17. How do you distinguish between copy.copy() and copy.deepcopy()?\n",
        "-. The copy.copy() function will do a shallow copy of a list,\n",
        "The copy.deepcopy() function will do a deep copy of a list. only copy.deepcopy() will duplicate any lists inside the list"
      ],
      "metadata": {
        "id": "qR_MQBmFSJSv"
      }
    }
  ]
}